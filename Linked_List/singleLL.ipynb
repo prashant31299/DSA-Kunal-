{
 "cells": [
  {
   "cell_type": "code",
   "execution_count": 8,
   "id": "ac1fe1ce-9be3-4b5e-adef-b4be32580b58",
   "metadata": {},
   "outputs": [
    {
     "name": "stdout",
     "output_type": "stream",
     "text": [
      "22\n"
     ]
    }
   ],
   "source": [
    "class Node:\n",
    "    def __init__(self,data):\n",
    "        self.data=data\n",
    "        self.ref=None\n",
    "\n",
    "class LinkdedList:\n",
    "    def __init__(self):\n",
    "        self.head=None\n",
    "    \n",
    "    def printLL(self):\n",
    "        if self.head is None:\n",
    "           \n",
    "            print(\"empty list\")\n",
    "        else:\n",
    "            n=self.head\n",
    "            while n is not None:\n",
    "                print(n.data)\n",
    "                n=n.ref\n",
    "\n",
    "LL=LinkdedList()\n",
    "LL.head=Node(22)\n",
    "\n",
    "LL.printLL()"
   ]
  },
  {
   "cell_type": "code",
   "execution_count": 2,
   "id": "2abe39fb-6d70-45c3-a931-852578850f94",
   "metadata": {},
   "outputs": [
    {
     "name": "stdout",
     "output_type": "stream",
     "text": [
      "2123\n",
      "22\n",
      "33\n"
     ]
    }
   ],
   "source": [
    "class Node:\n",
    "    def __init__(self,data):\n",
    "        self.data=data\n",
    "        self.next=None\n",
    "    \n",
    "class LL:\n",
    "    def __init__(self):\n",
    "        self.head=None\n",
    "        \n",
    "    def printLL(self):\n",
    "        if self.head is None:\n",
    "            print('empty')\n",
    "        else:\n",
    "            n= self.head\n",
    "            while n is not None:\n",
    "                print(n.data)\n",
    "                n=n.next\n",
    "    def addbigin(self,data):\n",
    "        new_node=Node(data)\n",
    "        new_node.next=self.head\n",
    "        self.head=new_node\n",
    "    \n",
    "ll=LL()\n",
    "ll.head=Node(33)\n"
   ]
  },
  {
   "cell_type": "code",
   "execution_count": 2,
   "id": "ea36f6b1-79e0-4d5f-bcbc-b5cec796c68e",
   "metadata": {},
   "outputs": [
    {
     "name": "stdout",
     "output_type": "stream",
     "text": [
      "42\n",
      "32\n",
      "22\n"
     ]
    }
   ],
   "source": [
    "class Node:\n",
    "    def __init__(self,data):\n",
    "        self.data=data\n",
    "        self.next=None\n",
    "        \n",
    "\n",
    "class LL:\n",
    "    def __init__(self):\n",
    "        self.head=None\n",
    "        \n",
    "    \n",
    "    def printLL(self):\n",
    "        if self.head is None:\n",
    "            print(\"print\")\n",
    "        else:\n",
    "            n=self.head\n",
    "            while n:\n",
    "                print(n.data)\n",
    "                n=n.next\n",
    "    \n",
    "    def addBegin(self,data):\n",
    "        new_node=Node(data)\n",
    "        new_node.next=self.head\n",
    "        self.head =new_node\n",
    "        \n",
    "\n",
    "ll=LL()\n",
    "ll.addBegin(22)\n",
    "ll.addBegin(32)\n",
    "ll.addBegin(42)\n",
    "ll.printLL()\n",
    "        "
   ]
  },
  {
   "cell_type": "code",
   "execution_count": null,
   "id": "b8150f5d-a5cb-4e4b-83a0-79f05918804f",
   "metadata": {},
   "outputs": [],
   "source": [
    "##ADD AT THE END\n",
    "class Node:\n",
    "    def __init__(self,data):\n",
    "        self.data=data\n",
    "        self.next=Node\n",
    "\n",
    "        \n",
    "class LL:\n",
    "    def __init__(self):\n",
    "        self.head= None\n",
    "\n",
    "    def printL(self):\n",
    "        n=self.head\n",
    "        while(n):\n",
    "            print(n.data)\n",
    "            n=n.next\n",
    "    \n",
    "    def addBegin(self,data):\n",
    "        new_node=Node(data)\n",
    "        new_node.next=self.head\n",
    "        self.head=new_node\n",
    "    \n",
    "    def append(self, new_data):\n",
    " \n",
    "        # 1. Create a new node\n",
    "        # 2. Put in the data\n",
    "        # 3. Set next as None\n",
    "        new_node = Node(new_data)\n",
    " \n",
    "        # 4. If the Linked List is empty, then make the\n",
    "        #    new node as head\n",
    "        if self.head is None:\n",
    "            self.head = new_node\n",
    "            return\n",
    " \n",
    "        # 5. Else traverse till the last node\n",
    "        last = self.head\n",
    "        while (last.next):\n",
    "            last = last.next\n",
    " \n",
    "        # 6. Change the next of last node\n",
    "        last.next =  new_node      \n",
    "\n",
    "    # Utility function to print the linked list\n",
    "    def listprint(self):\n",
    "        printval = self.headval\n",
    "        while printval is not None:\n",
    "            print (printval.dataval)\n",
    "        printval = printval.nextval\n",
    " \n",
    "        \n",
    "ll=LL()\n",
    "ll.addBegin(22)\n",
    "ll.addBegin(32)\n",
    "ll.listprint(42)\n",
    "ll.append(12)\n",
    "ll.listprint()        "
   ]
  }
 ],
 "metadata": {
  "kernelspec": {
   "display_name": "Python 3 (ipykernel)",
   "language": "python",
   "name": "python3"
  },
  "language_info": {
   "codemirror_mode": {
    "name": "ipython",
    "version": 3
   },
   "file_extension": ".py",
   "mimetype": "text/x-python",
   "name": "python",
   "nbconvert_exporter": "python",
   "pygments_lexer": "ipython3",
   "version": "3.9.7"
  }
 },
 "nbformat": 4,
 "nbformat_minor": 5
}
