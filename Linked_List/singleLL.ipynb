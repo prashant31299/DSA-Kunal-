{
 "cells": [
  {
   "cell_type": "code",
   "execution_count": 8,
   "id": "ac1fe1ce-9be3-4b5e-adef-b4be32580b58",
   "metadata": {},
   "outputs": [
    {
     "name": "stdout",
     "output_type": "stream",
     "text": [
      "22\n"
     ]
    }
   ],
   "source": [
    "class Node:\n",
    "    def __init__(self,data):\n",
    "        self.data=data\n",
    "        self.ref=None\n",
    "\n",
    "class LinkdedList:\n",
    "    def __init__(self):\n",
    "        self.head=None\n",
    "    \n",
    "    def printLL(self):\n",
    "        if self.head is None:\n",
    "           \n",
    "            print(\"empty list\")\n",
    "        else:\n",
    "            n=self.head\n",
    "            while n is not None:\n",
    "                print(n.data)\n",
    "                n=n.ref\n",
    "\n",
    "LL=LinkdedList()\n",
    "LL.head=Node(22)\n",
    "\n",
    "LL.printLL()"
   ]
  },
  {
   "cell_type": "code",
   "execution_count": 3,
   "id": "2abe39fb-6d70-45c3-a931-852578850f94",
   "metadata": {},
   "outputs": [
    {
     "name": "stdout",
     "output_type": "stream",
     "text": [
      "2123\n",
      "22\n",
      "33\n"
     ]
    }
   ],
   "source": [
    "class Node:\n",
    "    def __init__(self,data):\n",
    "        self.data=data\n",
    "        self.next=None\n",
    "    \n",
    "class LL:\n",
    "    def __init__(self):\n",
    "        self.head=None\n",
    "        \n",
    "    def printLL(self):\n",
    "        if self.head is None:\n",
    "            print('empty')\n",
    "        else:\n",
    "            n= self.head\n",
    "            while n is not None:\n",
    "                print(n.data)\n",
    "                n=n.next\n",
    "    def addbigin(self,data):\n",
    "        new_node=Node(data)\n",
    "        new_node.next=self.head\n",
    "        self.head=new_node\n",
    "    \n",
    "ll=LL()\n",
    "ll.head=Node(33)\n",
    "ll.addbigin(22)\n",
    "ll.addbigin(2123)\n",
    "ll.printLL()"
   ]
  },
  {
   "cell_type": "code",
   "execution_count": null,
   "id": "3eb4c8bd-d248-4f0c-bfa8-6e32d25d1678",
   "metadata": {},
   "outputs": [],
   "source": []
  }
 ],
 "metadata": {
  "kernelspec": {
   "display_name": "Python 3 (ipykernel)",
   "language": "python",
   "name": "python3"
  },
  "language_info": {
   "codemirror_mode": {
    "name": "ipython",
    "version": 3
   },
   "file_extension": ".py",
   "mimetype": "text/x-python",
   "name": "python",
   "nbconvert_exporter": "python",
   "pygments_lexer": "ipython3",
   "version": "3.9.7"
  }
 },
 "nbformat": 4,
 "nbformat_minor": 5
}
